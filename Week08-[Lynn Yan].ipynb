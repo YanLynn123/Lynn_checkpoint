{
 "cells": [
  {
   "cell_type": "markdown",
   "id": "8bac44fa",
   "metadata": {},
   "source": [
    "# Assignment 2 - Individual Checkpoint 1"
   ]
  },
  {
   "cell_type": "markdown",
   "id": "51c1541d",
   "metadata": {},
   "source": [
    "## Overview for this notebook \n",
    "\n",
    "**Goal:** For this notebook I will explore our driving questions \"Among these people, is their daily step count higher if they are more active in the morning?\". \n",
    "\n",
    "This note book will have three main part. \n",
    "\n",
    "Part1: Exploration for our data set and cleaning data if necessary. \n",
    "\n",
    "Part2: Answer basic question about these three people. \n",
    "\n",
    "Part3: Explore data for our driving problems.\n",
    "\n",
    "**Dataset:** The data set is about steps information we collect from 3 student in our group. Three students known as \"student1\", \"student2\", \"student3\".\n",
    "\n",
    "\n"
   ]
  },
  {
   "cell_type": "markdown",
   "id": "919d58bd",
   "metadata": {},
   "source": [
    "## Initial assumptions and predictions:\n",
    "\n",
    "The daily step count will be higher if people are more active in the morning."
   ]
  },
  {
   "cell_type": "markdown",
   "id": "f1ac1de2",
   "metadata": {},
   "source": [
    "### Part 1 Create dataframe for three students, inspect data"
   ]
  },
  {
   "cell_type": "markdown",
   "id": "718c826f",
   "metadata": {},
   "source": [
    "The first part, I will import panda pacakage for analysis. Then, import csv file into data frame. We have one csv file, recording three students step information. I will create a dataframe for each person. The \"Step\" dataframe is the original dataframe include all information about three people. The student1_data,student2_data student3_data is steps information about each person."
   ]
  },
  {
   "cell_type": "code",
   "execution_count": 1,
   "id": "f0f7273d",
   "metadata": {},
   "outputs": [
    {
     "name": "stdout",
     "output_type": "stream",
     "text": [
      "<class 'pandas.core.frame.DataFrame'>\n",
      "RangeIndex: 219 entries, 0 to 218\n",
      "Data columns (total 3 columns):\n",
      " #   Column   Non-Null Count  Dtype \n",
      "---  ------   --------------  ----- \n",
      " 0   student  219 non-null    object\n",
      " 1   time     219 non-null    object\n",
      " 2   step     219 non-null    int64 \n",
      "dtypes: int64(1), object(2)\n",
      "memory usage: 5.3+ KB\n"
     ]
    }
   ],
   "source": [
    "# import pandas package and import and inspect dataset\n",
    "import pandas as pd\n",
    "steps = pd.read_csv('student_step.csv')\n",
    "steps.info()"
   ]
  },
  {
   "cell_type": "code",
   "execution_count": 2,
   "id": "57d69d70",
   "metadata": {},
   "outputs": [
    {
     "data": {
      "text/plain": [
       "student    False\n",
       "time       False\n",
       "step       False\n",
       "dtype: bool"
      ]
     },
     "execution_count": 2,
     "metadata": {},
     "output_type": "execute_result"
    }
   ],
   "source": [
    "# check any null value exist\n",
    "steps.isnull().any()"
   ]
  },
  {
   "cell_type": "code",
   "execution_count": 3,
   "id": "e870d794",
   "metadata": {},
   "outputs": [],
   "source": [
    "# create data frame for each student\n",
    "student1_data = steps[steps['student'] == 'student_1']\n",
    "student2_data = steps[steps['student'] == 'student_2']\n",
    "student3_data = steps[steps['student'] == 'student_3']"
   ]
  },
  {
   "cell_type": "code",
   "execution_count": 4,
   "id": "21b8d0f9",
   "metadata": {},
   "outputs": [
    {
     "name": "stdout",
     "output_type": "stream",
     "text": [
      "<class 'pandas.core.frame.DataFrame'>\n",
      "Int64Index: 73 entries, 0 to 72\n",
      "Data columns (total 3 columns):\n",
      " #   Column   Non-Null Count  Dtype \n",
      "---  ------   --------------  ----- \n",
      " 0   student  73 non-null     object\n",
      " 1   time     73 non-null     object\n",
      " 2   step     73 non-null     int64 \n",
      "dtypes: int64(1), object(2)\n",
      "memory usage: 2.3+ KB\n",
      "<class 'pandas.core.frame.DataFrame'>\n",
      "Int64Index: 73 entries, 73 to 145\n",
      "Data columns (total 3 columns):\n",
      " #   Column   Non-Null Count  Dtype \n",
      "---  ------   --------------  ----- \n",
      " 0   student  73 non-null     object\n",
      " 1   time     73 non-null     object\n",
      " 2   step     73 non-null     int64 \n",
      "dtypes: int64(1), object(2)\n",
      "memory usage: 2.3+ KB\n",
      "<class 'pandas.core.frame.DataFrame'>\n",
      "Int64Index: 73 entries, 146 to 218\n",
      "Data columns (total 3 columns):\n",
      " #   Column   Non-Null Count  Dtype \n",
      "---  ------   --------------  ----- \n",
      " 0   student  73 non-null     object\n",
      " 1   time     73 non-null     object\n",
      " 2   step     73 non-null     int64 \n",
      "dtypes: int64(1), object(2)\n",
      "memory usage: 2.3+ KB\n"
     ]
    }
   ],
   "source": [
    "# check students information \n",
    "student1_data.info()\n",
    "student2_data.info()\n",
    "student3_data.info()"
   ]
  },
  {
   "cell_type": "markdown",
   "id": "5ec06b51",
   "metadata": {},
   "source": [
    "### Part2 Analysis for three student inforamtion:\n",
    "\n",
    "(1) the number of days of data for this person\n",
    "\n",
    "\n",
    "(2) daily step count information: average step count per day, maximum step count, minimum step count, one other observation you made about the data for this person: The day of the highest number of steps\n",
    "\n",
    "\n",
    "(3) minute step count information: number of non-zero minutes, missing data, average steps per minute, maximum and minimum steps, one other observation you made about the data for this person: Standard deviation of the number of steps.\n",
    "\n"
   ]
  },
  {
   "cell_type": "markdown",
   "id": "61bc13fc",
   "metadata": {},
   "source": [
    "***For Part2, dealing with data information is really important. I have to change \"time\" attribute to datatime type.***"
   ]
  },
  {
   "cell_type": "markdown",
   "id": "3f89d17b",
   "metadata": {},
   "source": [
    "#### Student 1"
   ]
  },
  {
   "cell_type": "code",
   "execution_count": 5,
   "id": "77927b41",
   "metadata": {},
   "outputs": [
    {
     "name": "stderr",
     "output_type": "stream",
     "text": [
      "/var/folders/tz/65rlkjcx1818x9xl2rjndnr80000gn/T/ipykernel_96980/3086140071.py:2: SettingWithCopyWarning: \n",
      "A value is trying to be set on a copy of a slice from a DataFrame.\n",
      "Try using .loc[row_indexer,col_indexer] = value instead\n",
      "\n",
      "See the caveats in the documentation: https://pandas.pydata.org/pandas-docs/stable/user_guide/indexing.html#returning-a-view-versus-a-copy\n",
      "  student1_data['time'] = pd.to_datetime(student1_data['time'])\n"
     ]
    }
   ],
   "source": [
    "# convert time attribute to datatime type\n",
    "student1_data['time'] = pd.to_datetime(student1_data['time'])"
   ]
  },
  {
   "cell_type": "code",
   "execution_count": 6,
   "id": "f31f36be",
   "metadata": {},
   "outputs": [],
   "source": [
    "# (1)\n",
    "# the number of days of data for this person\n",
    "num_days1 = student1_data['time'].dt.date.nunique()\n",
    "\n",
    "# (2)\n",
    "# average step count per day\n",
    "average_daily_steps1 = student1_data.groupby(student1_data['time'].dt.date)['step'].mean().mean()\n",
    "# maximum step coun\n",
    "max_steps1 = student1_data['step'].max()\n",
    "# minimum step count\n",
    "min_steps1 = student1_data['step'].min()\n",
    "# other observation for part2: The day of the highest number of steps\n",
    "daily_steps_student1 = student1_data.groupby(student1_data['time'].dt.date)['step'].sum()\n",
    "max_steps_date1 = daily_steps_student1.idxmax()\n",
    "\n",
    "# (3)\n",
    "# Count the number of non-zero minutes\n",
    "non_zero_minutes1 = len(student1_data[student1_data['step'] != 0])\n",
    "# Calculate the average steps per minute\n",
    "average_steps_per_minute1 = student1_data['step'].mean()\n",
    "# Maximum and minimum number of steps\n",
    "min_max_steps1 = student1_data['step'].max()/60\n",
    "min_min_steps1 = student1_data['step'].min()/60\n",
    "# Other observations: Standard deviation of the number of steps\n",
    "steps_std1 = student1_data['step'].std()"
   ]
  },
  {
   "cell_type": "code",
   "execution_count": 9,
   "id": "c722ede5",
   "metadata": {},
   "outputs": [
    {
     "name": "stdout",
     "output_type": "stream",
     "text": [
      "The basic information for student1\n",
      "                        Metric       Value\n",
      "0               Number of Days           4\n",
      "1          Average Daily Steps   200.46875\n",
      "2                    Max Steps        1943\n",
      "3                    Min Steps           0\n",
      "4      Date of Max Daily Steps  2023-09-13\n",
      "5             Non-Zero Minutes          39\n",
      "6     Average Steps per Minute  263.630137\n",
      "7         Max Steps per Minute   32.383333\n",
      "8         Min Steps per Minute         0.0\n",
      "9  Standard Deviation of Steps  409.093425\n"
     ]
    }
   ],
   "source": [
    "# summary data for student1\n",
    "data1 = {\n",
    "    'Metric': [\n",
    "        'Number of Days',\n",
    "        'Average Daily Steps',\n",
    "        'Max Steps',\n",
    "        'Min Steps',\n",
    "        'Date of Max Daily Steps',\n",
    "        'Non-Zero Minutes',\n",
    "        'Average Steps per Minute',\n",
    "        'Max Steps per Minute',\n",
    "        'Min Steps per Minute',\n",
    "        'Standard Deviation of Steps'\n",
    "    ],\n",
    "    'Value': [\n",
    "        num_days1,\n",
    "        average_daily_steps1,\n",
    "        max_steps1,\n",
    "        min_steps1,\n",
    "        max_steps_date1,\n",
    "        non_zero_minutes1,\n",
    "        average_steps_per_minute1,\n",
    "        min_max_steps1,\n",
    "        min_min_steps1,\n",
    "        steps_std1\n",
    "    ]\n",
    "}\n",
    "\n",
    "\n",
    "info_table1 = pd.DataFrame(data1)\n",
    "print(\"The basic information for student1\")\n",
    "print(info_table1)\n"
   ]
  },
  {
   "cell_type": "markdown",
   "id": "a5a75743",
   "metadata": {},
   "source": [
    "#### Student 2"
   ]
  },
  {
   "cell_type": "code",
   "execution_count": 10,
   "id": "a6c34d48",
   "metadata": {},
   "outputs": [
    {
     "name": "stderr",
     "output_type": "stream",
     "text": [
      "/var/folders/tz/65rlkjcx1818x9xl2rjndnr80000gn/T/ipykernel_96980/1607538254.py:1: SettingWithCopyWarning: \n",
      "A value is trying to be set on a copy of a slice from a DataFrame.\n",
      "Try using .loc[row_indexer,col_indexer] = value instead\n",
      "\n",
      "See the caveats in the documentation: https://pandas.pydata.org/pandas-docs/stable/user_guide/indexing.html#returning-a-view-versus-a-copy\n",
      "  student2_data['time'] = pd.to_datetime(student2_data['time'])\n"
     ]
    }
   ],
   "source": [
    "student2_data['time'] = pd.to_datetime(student2_data['time'])"
   ]
  },
  {
   "cell_type": "code",
   "execution_count": 11,
   "id": "2199af1f",
   "metadata": {},
   "outputs": [],
   "source": [
    "# (1)\n",
    "# the number of days of data for this person\n",
    "num_days2 = student2_data['time'].dt.date.nunique()\n",
    "\n",
    "# (2)\n",
    "# average step count per day\n",
    "average_daily_steps2 = student2_data.groupby(student2_data['time'].dt.date)['step'].mean().mean()\n",
    "max_steps2 = student2_data['step'].max()\n",
    "min_steps2 = student2_data['step'].min()\n",
    "# other observation for part2: The day of the highest number of steps\n",
    "daily_steps_student2 = student2_data.groupby(student2_data['time'].dt.date)['step'].sum()\n",
    "max_steps_date2 = daily_steps_student2.idxmax()\n",
    "# (3)\n",
    "# Count the number of non-zero minutes\n",
    "non_zero_minutes2 = len(student2_data[student2_data['step'] != 0])\n",
    "average_steps_per_minute2 = student2_data['step'].mean()\n",
    "min_max_steps2 = student2_data['step'].max()/60\n",
    "min_min_steps2 = student2_data['step'].min()/60\n",
    "# Other observations for part3: Standard deviation of the number of steps\n",
    "steps_std2 = student2_data['step'].std()"
   ]
  },
  {
   "cell_type": "code",
   "execution_count": 13,
   "id": "7350e433",
   "metadata": {},
   "outputs": [
    {
     "name": "stdout",
     "output_type": "stream",
     "text": [
      "The basic information for student2\n",
      "                        Metric       Value\n",
      "0               Number of Days           4\n",
      "1          Average Daily Steps       319.5\n",
      "2                    Max Steps        3161\n",
      "3                    Min Steps           0\n",
      "4      Date of Max Daily Steps  2023-09-13\n",
      "5             Non-Zero Minutes          43\n",
      "6     Average Steps per Minute  420.164384\n",
      "7         Max Steps per Minute   52.683333\n",
      "8         Min Steps per Minute         0.0\n",
      "9  Standard Deviation of Steps  762.064029\n"
     ]
    }
   ],
   "source": [
    "# summary data for student2\n",
    "data2 = {\n",
    "    'Metric': [\n",
    "        'Number of Days',\n",
    "        'Average Daily Steps',\n",
    "        'Max Steps',\n",
    "        'Min Steps',\n",
    "        'Date of Max Daily Steps',\n",
    "        'Non-Zero Minutes',\n",
    "        'Average Steps per Minute',\n",
    "        'Max Steps per Minute',\n",
    "        'Min Steps per Minute',\n",
    "        'Standard Deviation of Steps'\n",
    "    ],\n",
    "    'Value': [\n",
    "        num_days2,\n",
    "        average_daily_steps2,\n",
    "        max_steps2,\n",
    "        min_steps2,\n",
    "        max_steps_date2,\n",
    "        non_zero_minutes2,\n",
    "        average_steps_per_minute2,\n",
    "        min_max_steps2,\n",
    "        min_min_steps2,\n",
    "        steps_std2\n",
    "    ]\n",
    "}\n",
    "\n",
    "\n",
    "info_table2 = pd.DataFrame(data2)\n",
    "print(\"The basic information for student2\")\n",
    "print(info_table2)\n"
   ]
  },
  {
   "cell_type": "markdown",
   "id": "9c814edd",
   "metadata": {},
   "source": [
    "#### Student 3"
   ]
  },
  {
   "cell_type": "code",
   "execution_count": 14,
   "id": "fd70721d",
   "metadata": {},
   "outputs": [
    {
     "name": "stderr",
     "output_type": "stream",
     "text": [
      "/var/folders/tz/65rlkjcx1818x9xl2rjndnr80000gn/T/ipykernel_96980/1121338840.py:1: SettingWithCopyWarning: \n",
      "A value is trying to be set on a copy of a slice from a DataFrame.\n",
      "Try using .loc[row_indexer,col_indexer] = value instead\n",
      "\n",
      "See the caveats in the documentation: https://pandas.pydata.org/pandas-docs/stable/user_guide/indexing.html#returning-a-view-versus-a-copy\n",
      "  student3_data['time'] = pd.to_datetime(student3_data['time'])\n"
     ]
    }
   ],
   "source": [
    "student3_data['time'] = pd.to_datetime(student3_data['time'])"
   ]
  },
  {
   "cell_type": "code",
   "execution_count": 15,
   "id": "d2afff5d",
   "metadata": {},
   "outputs": [],
   "source": [
    "# (1)\n",
    "# the number of days of data for this person\n",
    "num_days3 = student3_data['time'].dt.date.nunique()\n",
    "\n",
    "# (2)\n",
    "# average step count per day\n",
    "average_daily_steps3 = student3_data.groupby(student3_data['time'].dt.date)['step'].mean().mean()\n",
    "max_steps3 = student3_data['step'].max()\n",
    "min_steps3 = student3_data['step'].min()\n",
    "# other observation for part2: The day of the highest number of steps\n",
    "daily_steps_student3 = student3_data.groupby(student3_data['time'].dt.date)['step'].sum()\n",
    "max_steps_date3 = daily_steps_student3.idxmax()\n",
    "\n",
    "\n",
    "# (3)\n",
    "# Count the number of non-zero minutes\n",
    "non_zero_minutes3 = len(student3_data[student3_data['step'] != 0])\n",
    "average_steps_per_minute3 = student3_data['step'].mean()\n",
    "min_max_steps3 = student3_data['step'].max()/60\n",
    "min_min_steps3 = student3_data['step'].min()/60\n",
    "steps_std3 = student3_data['step'].std()\n"
   ]
  },
  {
   "cell_type": "code",
   "execution_count": 16,
   "id": "5f22f96c",
   "metadata": {},
   "outputs": [
    {
     "name": "stdout",
     "output_type": "stream",
     "text": [
      "The basic information for student3\n",
      "                        Metric       Value\n",
      "0               Number of Days           4\n",
      "1          Average Daily Steps   451.09375\n",
      "2                    Max Steps        4414\n",
      "3                    Min Steps           0\n",
      "4      Date of Max Daily Steps  2023-09-15\n",
      "5             Non-Zero Minutes          53\n",
      "6     Average Steps per Minute  514.452055\n",
      "7         Max Steps per Minute   73.566667\n",
      "8         Min Steps per Minute         0.0\n",
      "9  Standard Deviation of Steps  878.905159\n"
     ]
    }
   ],
   "source": [
    "# summary data for student3\n",
    "data3 = {\n",
    "    'Metric': [\n",
    "        'Number of Days',\n",
    "        'Average Daily Steps',\n",
    "        'Max Steps',\n",
    "        'Min Steps',\n",
    "        'Date of Max Daily Steps',\n",
    "        'Non-Zero Minutes',\n",
    "        'Average Steps per Minute',\n",
    "        'Max Steps per Minute',\n",
    "        'Min Steps per Minute',\n",
    "        'Standard Deviation of Steps'\n",
    "    ],\n",
    "    'Value': [\n",
    "        num_days3,\n",
    "        average_daily_steps3,\n",
    "        max_steps3,\n",
    "        min_steps3,\n",
    "        max_steps_date3,\n",
    "        non_zero_minutes3,\n",
    "        average_steps_per_minute3,\n",
    "        min_max_steps3,\n",
    "        min_min_steps3,\n",
    "        steps_std3\n",
    "    ]\n",
    "}\n",
    "\n",
    "\n",
    "info_table3 = pd.DataFrame(data3)\n",
    "print(\"The basic information for student3\")\n",
    "print(info_table3)"
   ]
  },
  {
   "cell_type": "markdown",
   "id": "2e02ef6c",
   "metadata": {},
   "source": [
    "### Part3  Explore data for our driving problems\n",
    "\n",
    "For part 3, i define the morning time form 6 to 10 am. And i will calculate morning steps and average daily steps for each person. Then create a table to make compariation."
   ]
  },
  {
   "cell_type": "code",
   "execution_count": 17,
   "id": "b9d97319",
   "metadata": {},
   "outputs": [
    {
     "name": "stdout",
     "output_type": "stream",
     "text": [
      "           Morning Steps  Average Daily Steps\n",
      "student                                      \n",
      "student_1           5508              4811.25\n",
      "student_2           6480              7668.00\n",
      "student_3          13911              9388.75\n"
     ]
    }
   ],
   "source": [
    "steps['time'] = pd.to_datetime(steps['time'])\n",
    "\n",
    "# Count morning steps\n",
    "morning_mask = (steps['time'].dt.hour >= 6) & (steps['time'].dt.hour <= 10)\n",
    "morning_steps = steps[morning_mask].groupby('student')['step'].sum()\n",
    "\n",
    "# Count average daily steps\n",
    "daily_steps = steps.groupby(['student', steps['time'].dt.date])['step'].sum().groupby('student').mean()\n",
    "\n",
    "# merge data\n",
    "merged = pd.concat([morning_steps, daily_steps], axis=1)\n",
    "merged.columns = ['Morning Steps', 'Average Daily Steps']\n",
    "\n",
    "print(merged)\n",
    "\n"
   ]
  },
  {
   "cell_type": "markdown",
   "id": "f7249695",
   "metadata": {},
   "source": [
    "## Final statement about what you learnt from your data exploration and how that relates to your driving problem. \n",
    "\n",
    "1. What I learnt :\n",
    "\n",
    "* Data processing skills: Learn how to use pandas for data processing, such as filtering data, grouping, summarizing statistics, etc.\n",
    "\n",
    "* Manipulation of time series data: Learn how to process and analyze timestamp data, such as converting timestamps into date formats, date-based data aggregation, and more.\n",
    "\n",
    "\n",
    "2. What I discover for driving probelm:\n",
    "\n",
    "* Activity patterns: Students' activity patterns can be analyzed, such as whether they are more active in the morning or in the evening.\n",
    "\n",
    "* Most active days: We can find the most active days for students, which can help us understand when their activity peaks.\n",
    "\n",
    "* Periods of inactivity: By counting non-zero minutes, we can find out how much time students are active, and conversely, we can also infer periods of rest or inactivity.\n",
    "\n",
    "Based on the table i create for part3, we can see the daily steps are higher if people more active in morning. But, if we want to make sure, we need more data and analyze using more methods. "
   ]
  }
 ],
 "metadata": {
  "kernelspec": {
   "display_name": "Python 3 (ipykernel)",
   "language": "python",
   "name": "python3"
  },
  "language_info": {
   "codemirror_mode": {
    "name": "ipython",
    "version": 3
   },
   "file_extension": ".py",
   "mimetype": "text/x-python",
   "name": "python",
   "nbconvert_exporter": "python",
   "pygments_lexer": "ipython3",
   "version": "3.9.10"
  }
 },
 "nbformat": 4,
 "nbformat_minor": 5
}
